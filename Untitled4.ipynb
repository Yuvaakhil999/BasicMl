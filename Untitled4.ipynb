{
  "nbformat": 4,
  "nbformat_minor": 0,
  "metadata": {
    "colab": {
      "name": "Untitled4.ipynb",
      "provenance": [],
      "authorship_tag": "ABX9TyMF7q79Fk9YHLfXtX4CP2NE",
      "include_colab_link": true
    },
    "kernelspec": {
      "name": "python3",
      "display_name": "Python 3"
    },
    "language_info": {
      "name": "python"
    }
  },
  "cells": [
    {
      "cell_type": "markdown",
      "metadata": {
        "id": "view-in-github",
        "colab_type": "text"
      },
      "source": [
        "<a href=\"https://colab.research.google.com/github/Yuvaakhil999/BasicMl/blob/main/Untitled4.ipynb\" target=\"_parent\"><img src=\"https://colab.research.google.com/assets/colab-badge.svg\" alt=\"Open In Colab\"/></a>"
      ]
    },
    {
      "cell_type": "markdown",
      "metadata": {
        "id": "1R2btxYnPRbv"
      },
      "source": [
        "Python Program to Print Hello world!"
      ]
    },
    {
      "cell_type": "code",
      "metadata": {
        "id": "z7ZebWxnPjDK"
      },
      "source": [
        "print('Hello, world!')\n"
      ],
      "execution_count": null,
      "outputs": []
    },
    {
      "cell_type": "markdown",
      "metadata": {
        "id": "GvhZCeXoPsVy"
      },
      "source": [
        "Python Program To Factorial Of a Number"
      ]
    },
    {
      "cell_type": "code",
      "metadata": {
        "id": "n4Xep7B-P-lF"
      },
      "source": [
        "num = int(input(\"Enter a number: \"))    \n",
        "factorial = 1    \n",
        "if num < 0:    \n",
        "   print(\" Factorial does not exist for negative numbers\")    \n",
        "elif num == 0:    \n",
        "   print(\"The factorial of 0 is 1\")    \n",
        "else:    \n",
        "   for i in range(1,num + 1):    \n",
        "       factorial = factorial*i    \n",
        "   print(\"The factorial of\",num,\"is\",factorial)    "
      ],
      "execution_count": null,
      "outputs": []
    },
    {
      "cell_type": "markdown",
      "metadata": {
        "id": "Fz4GUaEtQRM2"
      },
      "source": [
        "Python Program For Determining Whether The Given Number Is a Palindrome Or Not"
      ]
    },
    {
      "cell_type": "code",
      "metadata": {
        "id": "hsVJqHl2QlZx"
      },
      "source": [
        "n=int(input(\"Enter number:\"))\n",
        "temp=n\n",
        "rev=0\n",
        "while(n>0):\n",
        "    dig=n%10\n",
        "    rev=rev*10+dig\n",
        "    n=n//10\n",
        "if(temp==rev):\n",
        "    print(\"The number is a palindrome!\")\n",
        "else:\n",
        "    print(\"The number isn't a palindrome!\")"
      ],
      "execution_count": null,
      "outputs": []
    },
    {
      "cell_type": "markdown",
      "metadata": {
        "id": "ErFxV2RlQyE-"
      },
      "source": [
        "Python Program To Do Arithmetical Operations\n"
      ]
    },
    {
      "cell_type": "code",
      "metadata": {
        "id": "o-74DcABRElN"
      },
      "source": [
        "\n",
        "num1 = input('Enter first number: ')  \n",
        "num2 = input('Enter second number: ') \n",
        "sum = float(num1) + float(num2)\n",
        "sub = float(num1) - float(num2)\n",
        "mul = float(num1) * float(num2)  \n",
        "div = float(num1) / float(num2) \n",
        "print('The sum of {0} and {1} is {2}'.format(num1, num2, sum))  \n",
        "print('The subtraction of {0} and {1} is {2}'.format(num1, num2, sub))  \n",
        "print('The multiplication of {0} and {1} is {2}'.format(num1, num2, mul))    \n",
        "print('The division of {0} and {1} is {2}'.format(num1, num2, div))  "
      ],
      "execution_count": null,
      "outputs": []
    }
  ]
}